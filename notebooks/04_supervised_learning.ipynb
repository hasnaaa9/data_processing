{
 "cells": [
  {
   "cell_type": "markdown",
   "id": "8423c1af",
   "metadata": {},
   "source": [
    "## *🤖 Supervised Learning - Classification Models*\n",
    "\n",
    "We now move to the *modeling stage* where we train and evaluate different supervised learning algorithms for heart disease prediction.  \n",
    "\n",
    "- The dataset will be split into *training (80%)* and *testing (20%)* subsets.  \n",
    "- Models to be trained: *Logistic Regression, Decision Tree, Random Forest, and Support Vector Machine (SVM)*.  \n",
    "- Evaluation will be based on *Accuracy, Precision, Recall, F1-score, and **ROC/AUC* to compare model performance.  \n",
    "\n",
    "This step helps us identify which model performs best and is most suitable for the final prediction task."
   ]
  },
  {
   "cell_type": "code",
   "execution_count": 159,
   "id": "69f588b1",
   "metadata": {},
   "outputs": [],
   "source": [
    "import pandas as pd\n",
    "import numpy as np\n",
    "from sklearn.model_selection import train_test_split\n",
    "from sklearn.linear_model import LogisticRegression\n",
    "from sklearn.ensemble import RandomForestClassifier\n",
    "from sklearn.metrics import accuracy_score, classification_report, roc_curve, roc_auc_score\n",
    "from sklearn.decomposition import PCA\n",
    "import matplotlib.pyplot as plt"
   ]
  },
  {
   "cell_type": "markdown",
   "id": "f7eb2292",
   "metadata": {},
   "source": [
    "## *🛠 Preparing Datasets for Modeling*\n",
    "\n",
    "Here we prepare different *feature sets* to test during model training:  \n",
    "\n",
    "- **Full dataset (X_full): all processed features.  \n",
    "- **RFE-selected dataset (X_rfe): only the top features chosen by Recursive Feature Elimination.  \n",
    "- **PCA-transformed dataset (X_pca): reduced feature set retaining 95% of the variance.  \n",
    "- **Target (y): labels loaded from the processed file.  \n",
    "\n",
    "This allows us to compare how different feature selection/reduction strategies impact model performance."
   ]
  },
  {
   "cell_type": "code",
   "execution_count": 160,
   "id": "426dd086",
   "metadata": {},
   "outputs": [],
   "source": [
    "X_full = pd.read_csv(\"../data/processed/processed_X.csv\")  # كل الفيتشرز\n",
    "y = pd.read_csv(\"../data/processed/y.csv\").values.ravel()\n",
    "\n",
    "rfe_results = pd.read_csv(\"../data/processed/rfe_selected_features.csv\")\n",
    "selected_features = rfe_results[rfe_results[\"Selected\"]==True][\"Feature\"].tolist()\n",
    "X_rfe = X_full[selected_features]\n",
    "\n",
    "X_pca = pd.read_csv(\"../data/processed/X_pca_95.csv\")  # بيانات بعد PCA\n"
   ]
  },
  {
   "cell_type": "markdown",
   "id": "22646206",
   "metadata": {},
   "source": [
    "## *🔹 Logistic Regression - All Features*\n",
    "We trained Logistic Regression on the *full feature set* (all processed variables).\n",
    "\n",
    "### What we did:\n",
    "- Split the dataset (80/20 train-test).  \n",
    "- Trained Logistic Regression with all available features (~30).  \n",
    "\n",
    "### What we found:\n",
    "- *Accuracy*: ~85.2%  \n",
    "- Class 0: Precision = 0.90, Recall = 0.82  \n",
    "- Class 1: Precision = 0.81, Recall = 0.89  \n",
    "\n",
    "### Analysis:\n",
    "- Model performs reasonably well with *balanced precision and recall*.  \n",
    "- Good recall for *disease class (1)* → strong ability to detect patients with heart disease.  \n",
    "- However, using all features might introduce noise or redundancy."
   ]
  },
  {
   "cell_type": "code",
   "execution_count": 161,
   "id": "255efe48",
   "metadata": {},
   "outputs": [
    {
     "name": "stdout",
     "output_type": "stream",
     "text": [
      "🔹 Logistic Regression - All Features\n",
      "Accuracy: 0.8688524590163934\n",
      "              precision    recall  f1-score   support\n",
      "\n",
      "           0       0.93      0.82      0.87        33\n",
      "           1       0.81      0.93      0.87        28\n",
      "\n",
      "    accuracy                           0.87        61\n",
      "   macro avg       0.87      0.87      0.87        61\n",
      "weighted avg       0.88      0.87      0.87        61\n",
      "\n"
     ]
    }
   ],
   "source": [
    "X_train_full, X_test_full, y_train_full, y_test_full = train_test_split(\n",
    "    X_full, y, test_size=0.2, random_state=42, stratify=y\n",
    ")\n",
    "\n",
    "log_reg_full = LogisticRegression(max_iter=1000)\n",
    "log_reg_full.fit(X_train_full, y_train_full)\n",
    "\n",
    "y_pred_full = log_reg_full.predict(X_test_full)\n",
    "print(\"🔹 Logistic Regression - All Features\")\n",
    "print(\"Accuracy:\", accuracy_score(y_test_full, y_pred_full))\n",
    "print(classification_report(y_test_full, y_pred_full))"
   ]
  },
  {
   "cell_type": "markdown",
   "id": "aa636d79",
   "metadata": {},
   "source": [
    "## *🔹 Logistic Regression - RFE*\n",
    "We applied *Recursive Feature Elimination (RFE)* to choose the top 10 most relevant predictors.\n",
    "\n",
    "### What we did:\n",
    "- Selected ~10 features via RFE.  \n",
    "- Trained Logistic Regression only on those selected predictors.  \n",
    "\n",
    "### What we found:\n",
    "- *Accuracy*: ~86.9%  \n",
    "- Class 0: Precision = 0.90, Recall = 0.85  \n",
    "- Class 1: Precision = 0.83, Recall = 0.89  \n",
    "\n",
    "### Analysis:\n",
    "- Accuracy improved slightly compared to the full feature model (~85% → ~87%).  \n",
    "- Model is *simpler and more efficient*, with no major drop in performance.  \n",
    "- Suggests that *feature selection helps remove irrelevant features* and may boost generalization."
   ]
  },
  {
   "cell_type": "code",
   "execution_count": 162,
   "id": "5ae9465b",
   "metadata": {},
   "outputs": [
    {
     "name": "stdout",
     "output_type": "stream",
     "text": [
      "🔹 Logistic Regression - Selected Features (~10)\n",
      "Accuracy: 0.8688524590163934\n",
      "              precision    recall  f1-score   support\n",
      "\n",
      "           0       0.93      0.82      0.87        33\n",
      "           1       0.81      0.93      0.87        28\n",
      "\n",
      "    accuracy                           0.87        61\n",
      "   macro avg       0.87      0.87      0.87        61\n",
      "weighted avg       0.88      0.87      0.87        61\n",
      "\n"
     ]
    }
   ],
   "source": [
    "X_train_rfe, X_test_rfe, y_train_rfe, y_test_rfe = train_test_split(\n",
    "    X_rfe, y, test_size=0.2, random_state=42, stratify=y\n",
    ")\n",
    "\n",
    "log_reg_rfe = LogisticRegression(max_iter=1000)\n",
    "log_reg_rfe.fit(X_train_rfe, y_train_rfe)\n",
    "\n",
    "y_pred_rfe = log_reg_rfe.predict(X_test_rfe)\n",
    "print(\"🔹 Logistic Regression - Selected Features (~10)\")\n",
    "print(\"Accuracy:\", accuracy_score(y_test_rfe, y_pred_rfe))\n",
    "print(classification_report(y_test_rfe, y_pred_rfe))"
   ]
  },
  {
   "cell_type": "markdown",
   "id": "9fa96c85",
   "metadata": {},
   "source": [
    "## *🔹 Logistic Regression - PCA*\n",
    "We used *PCA* to reduce dimensionality, keeping 95% variance (12 components).\n",
    "\n",
    "### What we did:\n",
    "- Transformed original features into 12 PCA components.  \n",
    "- Trained Logistic Regression on the transformed dataset.  \n",
    "\n",
    "### What we found:\n",
    "- *Accuracy*: ~88.5%  \n",
    "- Class 0: Precision = 0.91, Recall = 0.88  \n",
    "- Class 1: Precision = 0.86, Recall = 0.89  \n",
    "\n",
    "### Analysis:\n",
    "- PCA achieved the *best accuracy* among the three setups.  \n",
    "- Performance is balanced across both classes.  \n",
    "- Downsides: PCA features are *not directly interpretable*, unlike original/RFE-selected features.  \n",
    "- Shows that PCA effectively reduces dimensionality while improving prediction."
   ]
  },
  {
   "cell_type": "code",
   "execution_count": 163,
   "id": "b7f82e67",
   "metadata": {},
   "outputs": [
    {
     "name": "stdout",
     "output_type": "stream",
     "text": [
      "🔹 Logistic Regression - PCA Features\n",
      "Accuracy: 0.8524590163934426\n",
      "              precision    recall  f1-score   support\n",
      "\n",
      "           0       0.90      0.82      0.86        33\n",
      "           1       0.81      0.89      0.85        28\n",
      "\n",
      "    accuracy                           0.85        61\n",
      "   macro avg       0.85      0.86      0.85        61\n",
      "weighted avg       0.86      0.85      0.85        61\n",
      "\n"
     ]
    }
   ],
   "source": [
    "X_train_pca, X_test_pca, y_train_pca, y_test_pca = train_test_split(\n",
    "    X_pca, y, test_size=0.2, random_state=42, stratify=y\n",
    ")\n",
    "\n",
    "log_reg_pca = LogisticRegression(max_iter=1000)\n",
    "log_reg_pca.fit(X_train_pca, y_train_pca)\n",
    "\n",
    "y_pred_pca = log_reg_pca.predict(X_test_pca)\n",
    "print(\"🔹 Logistic Regression - PCA Features\")\n",
    "print(\"Accuracy:\", accuracy_score(y_test_pca, y_pred_pca))\n",
    "print(classification_report(y_test_pca, y_pred_pca))"
   ]
  },
  {
   "cell_type": "markdown",
   "id": "6dd20683",
   "metadata": {},
   "source": [
    "## *📊 ROC Curve & AUC – Logistic Regression (PCA)*\n",
    "\n",
    "We evaluated the PCA-based Logistic Regression model using the *ROC curve* and *AUC score*.  \n",
    "\n",
    "### What we found:\n",
    "- *AUC Score*: 0.952 → Excellent performance.  \n",
    "- The ROC curve shows the model achieves a very good balance between *True Positive Rate (sensitivity)* and *False Positive Rate (1 - specificity)*.  \n",
    "- AUC close to 1.0 indicates the classifier is highly capable of distinguishing between patients with and without heart disease.  \n",
    "\n",
    "### Analysis:\n",
    "- This reinforces the earlier accuracy/F1 results, confirming that PCA features helped the model achieve *strong predictive power*.  \n",
    "- Compared to accuracy alone, AUC gives a more robust view of performance across different thresholds."
   ]
  },
  {
   "cell_type": "code",
   "execution_count": 164,
   "id": "2e646dbc",
   "metadata": {},
   "outputs": [
    {
     "data": {
      "image/png": "[encoded data removed]",
      "text/plain": [
       "<Figure size 800x600 with 1 Axes>"
      ]
     },
     "metadata": {},
     "output_type": "display_data"
    },
    {
     "name": "stdout",
     "output_type": "stream",
     "text": [
      "AUC Score (PCA Logistic Regression): 0.948\n"
     ]
    }
   ],
   "source": [
    "y_prob_pca = log_reg_pca.predict_proba(X_test_pca)[:, 1]\n",
    "fpr, tpr, _ = roc_curve(y_test_pca, y_prob_pca)\n",
    "auc_score = roc_auc_score(y_test_pca, y_prob_pca)\n",
    "\n",
    "plt.figure(figsize=(8,6))\n",
    "plt.plot(fpr, tpr, label=f\"PCA Logistic Regression (AUC = {auc_score:.2f})\", color=\"blue\")\n",
    "plt.plot([0,1],[0,1],'k--')\n",
    "plt.xlabel(\"False Positive Rate\")\n",
    "plt.ylabel(\"True Positive Rate\")\n",
    "plt.title(\"ROC Curve - PCA Logistic Regression\")\n",
    "plt.legend()\n",
    "plt.show()\n",
    "\n",
    "print(f\"AUC Score (PCA Logistic Regression): {auc_score:.3f}\")"
   ]
  },
  {
   "cell_type": "markdown",
   "id": "17aaa1e7",
   "metadata": {},
   "source": [
    "# 🌳 Decision Tree – All Features\n",
    "\n",
    "We trained a **Decision Tree classifier** with `max_depth=5` using all available features.  \n",
    "\n",
    "## 🔹 What we found:\n",
    "- **Accuracy**: *(e.g., 0.83 – replace with your output)*  \n",
    "- The **classification report** shows:  \n",
    "  - **Precision**: how many predicted positives were correct.  \n",
    "  - **Recall**: how many actual positives were detected.  \n",
    "  - **F1-score**: the balance between precision and recall.  \n",
    "\n",
    "## 🔹 Analysis:\n",
    "- Decision Trees are **easy to interpret** but can be less stable compared to ensemble models like Random Forest.  \n",
    "- Setting `max_depth=5` prevents **overfitting**, improving generalization on unseen data.  \n",
    "- These results serve as a **baseline** for comparison with more advanced models (e.g., Random Forest, SVM, Logistic Regression with PCA).  \n"
   ]
  },
  {
   "cell_type": "markdown",
   "id": "325328de",
   "metadata": {},
   "source": [
    "**D treeeeeeeeeeeeeeeeeeeeeeeeeeeeeeeeeeeeeeeeee**"
   ]
  },
  {
   "cell_type": "code",
   "execution_count": 165,
   "id": "bacf4829",
   "metadata": {},
   "outputs": [
    {
     "name": "stdout",
     "output_type": "stream",
     "text": [
      "🔹 Decision Tree - All Features\n",
      "Accuracy: 0.7704918032786885\n",
      "              precision    recall  f1-score   support\n",
      "\n",
      "           0       0.85      0.70      0.77        33\n",
      "           1       0.71      0.86      0.77        28\n",
      "\n",
      "    accuracy                           0.77        61\n",
      "   macro avg       0.78      0.78      0.77        61\n",
      "weighted avg       0.78      0.77      0.77        61\n",
      "\n"
     ]
    }
   ],
   "source": [
    "X_train_full, X_test_full, y_train_full, y_test_full = train_test_split(\n",
    "    X_full, y, test_size=0.2, random_state=42, stratify=y\n",
    ")\n",
    "dt_all = DecisionTreeClassifier(random_state=42, max_depth=5)\n",
    "dt_all.fit(X_train_full, y_train_full)\n",
    "y_pred_full = dt_all.predict(X_test_full)\n",
    "\n",
    "print(\"🔹 Decision Tree - All Features\")\n",
    "print(\"Accuracy:\", accuracy_score(y_test_full, y_pred_full))\n",
    "print(classification_report(y_test_full, y_pred_full))"
   ]
  },
  {
   "cell_type": "markdown",
   "id": "0a9ea986",
   "metadata": {},
   "source": [
    "# 🌳 Decision Tree – Selected Features (~10)\n",
    "\n",
    "We trained a **Decision Tree classifier** with `max_depth=5` using only the top ~10 features selected by RFE.  \n",
    "\n",
    "\n",
    "## 🔹 What we found:\n",
    "- **Accuracy**: *(e.g., 0.81 – replace with your output)*  \n",
    "- The **classification report** shows:  \n",
    "  - **Precision** → reliability of positive predictions.  \n",
    "  - **Recall** → coverage of actual positives.  \n",
    "  - **F1-score** → balance between precision and recall.  \n",
    "\n",
    "\n",
    "## 🔹 Analysis:\n",
    "- Using **RFE-selected features** reduced dimensionality while keeping strong predictive signals.  \n",
    "- Performance is close to the full-feature model, showing that many features are **redundant**.  \n",
    "- This demonstrates how **feature selection improves efficiency** without a big drop in accuracy.  \n"
   ]
  },
  {
   "cell_type": "code",
   "execution_count": 166,
   "id": "17503f37",
   "metadata": {},
   "outputs": [
    {
     "name": "stdout",
     "output_type": "stream",
     "text": [
      "🔹 Decision Tree - Selected Features (~10)\n",
      "Accuracy: 0.7868852459016393\n",
      "              precision    recall  f1-score   support\n",
      "\n",
      "           0       0.79      0.82      0.81        33\n",
      "           1       0.78      0.75      0.76        28\n",
      "\n",
      "    accuracy                           0.79        61\n",
      "   macro avg       0.79      0.78      0.78        61\n",
      "weighted avg       0.79      0.79      0.79        61\n",
      "\n"
     ]
    }
   ],
   "source": [
    "X_train_rfe, X_test_rfe, y_train_rfe, y_test_rfe = train_test_split(\n",
    "    X_rfe, y, test_size=0.2, random_state=42, stratify=y\n",
    ")\n",
    "dt_rfe = DecisionTreeClassifier(random_state=42, max_depth=5)\n",
    "dt_rfe.fit(X_train_rfe, y_train_rfe)\n",
    "y_pred_rfe = dt_rfe.predict(X_test_rfe)\n",
    "\n",
    "print(\"🔹 Decision Tree - Selected Features (~10)\")\n",
    "print(\"Accuracy:\", accuracy_score(y_test_rfe, y_pred_rfe))\n",
    "print(classification_report(y_test_rfe, y_pred_rfe))"
   ]
  },
  {
   "cell_type": "markdown",
   "id": "791f3a46",
   "metadata": {},
   "source": [
    "## 🌳 Decision Tree – PCA\n",
    "\n",
    "We trained a *Decision Tree classifier*on the PCA-transformed features to simplify the model while maintaining good predictive performance.\n",
    "\n",
    "### 🔹 What we found:\n",
    "- Accuracy : 0.81\n",
    "- The classification report shows:  \n",
    "  - Precision → reliability of positive predictions.  \n",
    "  - Recall → coverage of actual positives.  \n",
    "  - F1-score → balance between precision and recall.  \n",
    "\n",
    "\n",
    "### 🔹 Analysis:\n",
    "- Applying PCA reduces the number of dimensions while retaining most of the variance, allowing the Decision Tree to focus on the most important features.\n",
    "- The Decision Tree model is easy to interpret and can handle non-linear patterns, though depth limitation helps prevent overfitting.\n",
    "- This approach provides a balance between model simplicity, interpretability, and predictive performance compared to using all raw features."
   ]
  },
  {
   "cell_type": "code",
   "execution_count": 167,
   "id": "e69a4f83",
   "metadata": {},
   "outputs": [
    {
     "name": "stdout",
     "output_type": "stream",
     "text": [
      "🔹 Decision Tree - PCA Features\n",
      "Accuracy: 0.8032786885245902\n",
      "              precision    recall  f1-score   support\n",
      "\n",
      "           0       0.84      0.79      0.81        33\n",
      "           1       0.77      0.82      0.79        28\n",
      "\n",
      "    accuracy                           0.80        61\n",
      "   macro avg       0.80      0.80      0.80        61\n",
      "weighted avg       0.81      0.80      0.80        61\n",
      "\n"
     ]
    }
   ],
   "source": [
    "X_train_pca, X_test_pca, y_train_pca, y_test_pca = train_test_split(\n",
    "    X_pca, y, test_size=0.2, random_state=42, stratify=y\n",
    ")\n",
    "dt_pca = DecisionTreeClassifier(random_state=42, max_depth=5)\n",
    "dt_pca.fit(X_train_pca, y_train_pca)\n",
    "y_pred_pca = dt_pca.predict(X_test_pca)\n",
    "y_prob_pca = dt_pca.predict_proba(X_test_pca)[:,1]\n",
    "\n",
    "print(\"🔹 Decision Tree - PCA Features\")\n",
    "print(\"Accuracy:\", accuracy_score(y_test_pca, y_pred_pca))\n",
    "print(classification_report(y_test_pca, y_pred_pca))"
   ]
  },
  {
   "cell_type": "markdown",
   "id": "51a3d2cb",
   "metadata": {},
   "source": [
    "# 📊 ROC Curve & AUC – Decision Tree (PCA)\n",
    "\n",
    "We evaluated the **Decision Tree classifier** (with PCA features) using the *ROC curve* and *AUC score*.  \n",
    "\n",
    "\n",
    "## 🔹 What we found:\n",
    "- **AUC Score**: *(e.g., 0.89 – replace with your output)*  \n",
    "- The ROC curve shows how well the model distinguishes between classes.  \n",
    "- Compared to a random guess (the diagonal line), the tree achieves significantly better performance.  \n",
    "\n",
    "\n",
    "\n",
    "## 🔹 Analysis:\n",
    "- Using **PCA features** improved efficiency and reduced dimensionality.  \n",
    "- The AUC score indicates the model has a **good balance between sensitivity (TPR)** and **specificity (1 - FPR)**.  \n",
    "- While not as strong as Logistic Regression with PCA, the Decision Tree still shows **reasonable discriminatory power**.  \n"
   ]
  },
  {
   "cell_type": "code",
   "execution_count": 168,
   "id": "c485a135",
   "metadata": {},
   "outputs": [
    {
     "data": {
      "image/png": "[encoded data removed]",
      "text/plain": [
       "<Figure size 800x600 with 1 Axes>"
      ]
     },
     "metadata": {},
     "output_type": "display_data"
    },
    {
     "name": "stdout",
     "output_type": "stream",
     "text": [
      "AUC Score (Decision Tree PCA): 0.948\n"
     ]
    }
   ],
   "source": [
    "plt.figure(figsize=(8,6))\n",
    "plt.plot(fpr, tpr, label=f\"Decision Tree (AUC = {auc_score:.2f})\", color=\"green\")\n",
    "plt.plot([0,1],[0,1],'k--')\n",
    "plt.xlabel(\"False Positive Rate\")\n",
    "plt.ylabel(\"True Positive Rate\")\n",
    "plt.title(\"ROC Curve - Decision Tree with PCA\")\n",
    "plt.legend()\n",
    "plt.show()\n",
    "\n",
    "print(f\"AUC Score (Decision Tree PCA): {auc_score:.3f}\")"
   ]
  },
  {
   "cell_type": "markdown",
   "id": "7f979073",
   "metadata": {},
   "source": [
    "# 🌲 Random Forest – All Features\n",
    "\n",
    "We trained a **Random Forest classifier** with `n_estimators=100` and `max_depth=5` using all features.  \n",
    "\n",
    "\n",
    "## 🔹 What we found:\n",
    "- **Accuracy**: *(e.g., 0.85 – replace with your output)*  \n",
    "- The **classification report** shows:  \n",
    "  - **Precision**: how many predicted positives were correct.  \n",
    "  - **Recall**: how many actual positives were detected.  \n",
    "  - **F1-score**: the balance between precision and recall.  \n",
    "\n",
    "\n",
    "## 🔹 Analysis:\n",
    "- Random Forests are **more robust** than single Decision Trees, as they average predictions from multiple trees.  \n",
    "- Setting `max_depth=5` keeps the model from **overfitting**, ensuring better generalization.  \n",
    "- The results usually outperform a single Decision Tree, making Random Forest a **stronger baseline model** for comparison.  \n"
   ]
  },
  {
   "cell_type": "code",
   "execution_count": 169,
   "id": "a2d5614c",
   "metadata": {},
   "outputs": [
    {
     "name": "stdout",
     "output_type": "stream",
     "text": [
      "🔹 Random Forest - All Features\n",
      "Accuracy: 0.8852459016393442\n",
      "              precision    recall  f1-score   support\n",
      "\n",
      "           0       0.93      0.85      0.89        33\n",
      "           1       0.84      0.93      0.88        28\n",
      "\n",
      "    accuracy                           0.89        61\n",
      "   macro avg       0.89      0.89      0.89        61\n",
      "weighted avg       0.89      0.89      0.89        61\n",
      "\n"
     ]
    }
   ],
   "source": [
    "\n",
    "X_train_full, X_test_full, y_train_full, y_test_full = train_test_split(\n",
    "    X_full, y, test_size=0.2, random_state=42, stratify=y\n",
    ")\n",
    "rf_all = RandomForestClassifier(random_state=42, n_estimators=100, max_depth=5)\n",
    "rf_all.fit(X_train_full, y_train_full)\n",
    "y_pred_full = rf_all.predict(X_test_full)\n",
    "\n",
    "print(\"🔹 Random Forest - All Features\")\n",
    "print(\"Accuracy:\", accuracy_score(y_test_full, y_pred_full))\n",
    "print(classification_report(y_test_full, y_pred_full))"
   ]
  },
  {
   "cell_type": "markdown",
   "id": "b6740476",
   "metadata": {},
   "source": [
    "## 🌲 Random Forest – PCA\n",
    "\n",
    "We trained a Random Forest classifier on the PCA-transformed features to improve performance while reducing dimensionality.\n",
    "\n",
    "\n",
    "### 🔹 What we found:\n",
    "- Accuracy:0.91\n",
    "- The classification report shows:  \n",
    "  - Precision → proportion of predicted positives that were correct.  \n",
    "  - Recall → proportion of actual positives detected.  \n",
    "  - F1-score → harmonic mean of precision and recall.  \n",
    "\n",
    "\n",
    "### 🔹 Analysis:\n",
    "- Applying PCA reduces the number of dimensions while retaining most of the variance, helping the Random Forest focus on the most informative features.\n",
    "- The Random Forest model handles non-linear relationships well and reduces overfitting through parameters like tree depth and number of estimators.\n",
    "- This approach provides a good balance between computational efficiency and model accuracy compared to using all raw features."
   ]
  },
  {
   "cell_type": "code",
   "execution_count": 170,
   "id": "a7536282",
   "metadata": {},
   "outputs": [
    {
     "name": "stdout",
     "output_type": "stream",
     "text": [
      "🔹 Random Forest - PCA Features\n",
      "Accuracy: 0.8524590163934426\n",
      "              precision    recall  f1-score   support\n",
      "\n",
      "           0       0.96      0.76      0.85        33\n",
      "           1       0.77      0.96      0.86        28\n",
      "\n",
      "    accuracy                           0.85        61\n",
      "   macro avg       0.87      0.86      0.85        61\n",
      "weighted avg       0.87      0.85      0.85        61\n",
      "\n"
     ]
    }
   ],
   "source": [
    "X_train_pca, X_test_pca, y_train_pca, y_test_pca = train_test_split(\n",
    "    X_pca, y, test_size=0.2, random_state=42, stratify=y\n",
    ")\n",
    "rf_pca = RandomForestClassifier(random_state=42, n_estimators=100, max_depth=5)\n",
    "rf_pca.fit(X_train_pca, y_train_pca)\n",
    "y_pred_pca = rf_pca.predict(X_test_pca)\n",
    "y_prob_pca = rf_pca.predict_proba(X_test_pca)[:,1]\n",
    "\n",
    "print(\"🔹 Random Forest - PCA Features\")\n",
    "print(\"Accuracy:\", accuracy_score(y_test_pca, y_pred_pca))\n",
    "print(classification_report(y_test_pca, y_pred_pca))"
   ]
  },
  {
   "cell_type": "markdown",
   "id": "af43f3ea",
   "metadata": {},
   "source": [
    "# 🌲 Random Forest – Selected Features (~10)\n",
    "\n",
    "We trained a **Random Forest classifier** with `n_estimators=100` and `max_depth=5` using only the **RFE-selected features (~10)**.  \n",
    "\n",
    "\n",
    "## 🔹 What we found:\n",
    "- **Accuracy**: *(e.g., 0.84 – replace with your output)*  \n",
    "- The **classification report** shows:  \n",
    "  - **Precision**: how many predicted positives were correct.  \n",
    "  - **Recall**: how many actual positives were detected.  \n",
    "  - **F1-score**: the balance between precision and recall.  \n",
    "\n",
    "\n",
    "## 🔹 Analysis:\n",
    "- Using **fewer features** (selected via RFE) reduces dimensionality while still keeping good predictive power.  \n",
    "- Random Forest handles feature selection well and remains **robust** even with a smaller input set.  \n",
    "- Results are comparable to using all features, proving that **feature selection helps simplify the model without sacrificing much accuracy**.  \n"
   ]
  },
  {
   "cell_type": "code",
   "execution_count": 171,
   "id": "3095ea77",
   "metadata": {},
   "outputs": [
    {
     "name": "stdout",
     "output_type": "stream",
     "text": [
      "🔹 Random Forest - Selected Features (~10)\n",
      "Accuracy: 0.8852459016393442\n",
      "              precision    recall  f1-score   support\n",
      "\n",
      "           0       0.91      0.88      0.89        33\n",
      "           1       0.86      0.89      0.88        28\n",
      "\n",
      "    accuracy                           0.89        61\n",
      "   macro avg       0.88      0.89      0.88        61\n",
      "weighted avg       0.89      0.89      0.89        61\n",
      "\n"
     ]
    }
   ],
   "source": [
    "X_train_rfe, X_test_rfe, y_train_rfe, y_test_rfe = train_test_split(\n",
    "    X_rfe, y, test_size=0.2, random_state=42, stratify=y\n",
    ")\n",
    "rf_rfe = RandomForestClassifier(random_state=42, n_estimators=100, max_depth=5)\n",
    "rf_rfe.fit(X_train_rfe, y_train_rfe)\n",
    "y_pred_rfe = rf_rfe.predict(X_test_rfe)\n",
    "\n",
    "print(\"🔹 Random Forest - Selected Features (~10)\")\n",
    "print(\"Accuracy:\", accuracy_score(y_test_rfe, y_pred_rfe))\n",
    "print(classification_report(y_test_rfe, y_pred_rfe))"
   ]
  },
  {
   "cell_type": "markdown",
   "id": "764cbb77",
   "metadata": {},
   "source": [
    "# 📊 ROC Curve & AUC – Random Forest (PCA)\n",
    "\n",
    "We evaluated the **Random Forest classifier** (with PCA features) using the *ROC curve* and *AUC score*.  \n",
    "\n",
    "\n",
    "\n",
    "## 🔹 What we found:\n",
    "- **AUC Score**: *(e.g., 0.94 – replace with your output)* → Excellent performance.  \n",
    "- The ROC curve demonstrates a strong trade-off between **True Positive Rate (sensitivity)** and **False Positive Rate (1 - specificity)**.  \n",
    "- AUC close to **1.0** indicates that the model is highly effective at distinguishing between patients with and without heart disease.  \n",
    "\n",
    "\n",
    "\n",
    "## 🔹 Analysis:\n",
    "- PCA-based features allowed Random Forest to achieve **robust classification** while reducing feature space.  \n",
    "- Compared to Decision Tree, Random Forest shows **better generalization** and stability.  \n",
    "- The strong AUC reinforces its reliability for **medical prediction tasks**.  \n"
   ]
  },
  {
   "cell_type": "code",
   "execution_count": 172,
   "id": "76215f34",
   "metadata": {},
   "outputs": [
    {
     "data": {
      "image/png": "[encoded data removed]",
      "text/plain": [
       "<Figure size 800x600 with 1 Axes>"
      ]
     },
     "metadata": {},
     "output_type": "display_data"
    },
    {
     "name": "stdout",
     "output_type": "stream",
     "text": [
      "AUC Score (Random Forest PCA): 0.947\n"
     ]
    }
   ],
   "source": [
    "fpr, tpr, _ = roc_curve(y_test_pca, y_prob_pca)\n",
    "auc_score = roc_auc_score(y_test_pca, y_prob_pca)\n",
    "\n",
    "plt.figure(figsize=(8,6))\n",
    "plt.plot(fpr, tpr, label=f\"Random Forest (AUC = {auc_score:.2f})\", color=\"darkorange\")\n",
    "plt.plot([0,1],[0,1],'k--')\n",
    "plt.xlabel(\"False Positive Rate\")\n",
    "plt.ylabel(\"True Positive Rate\")\n",
    "plt.title(\"ROC Curve - Random Forest with PCA\")\n",
    "plt.legend()\n",
    "plt.grid(True)\n",
    "plt.show()\n",
    "\n",
    "print(f\"AUC Score (Random Forest PCA): {auc_score:.3f}\")"
   ]
  },
  {
   "cell_type": "markdown",
   "id": "ab9a06c7",
   "metadata": {},
   "source": [
    "**SVVVVVVVVVVVVVVVMMMMMMMMMMMM**"
   ]
  },
  {
   "cell_type": "code",
   "execution_count": 173,
   "id": "a2c66c51",
   "metadata": {},
   "outputs": [],
   "source": [
    "import pandas as pd\n",
    "from sklearn.model_selection import train_test_split\n",
    "from sklearn.svm import SVC\n",
    "from sklearn.metrics import accuracy_score, classification_report, roc_curve, roc_auc_score\n",
    "import matplotlib.pyplot as plt\n"
   ]
  },
  {
   "cell_type": "markdown",
   "id": "a0e960b0",
   "metadata": {},
   "source": [
    "# ⚡ Support Vector Machine – All Features  \n",
    "\n",
    "We trained an **SVM classifier** using the **RBF kernel** with all available features.  \n",
    "\n",
    "## 🔹 What we found:  \n",
    "- **Accuracy**: *(e.g., 0.85 – replace with your output)*  \n",
    "- The **classification report** shows:  \n",
    "  - **Precision** → how many predicted positives were correct.  \n",
    "  - **Recall** → how many actual positives were detected.  \n",
    "  - **F1-score** → the balance between precision and recall.  \n",
    "\n",
    "## 🔹 Analysis:  \n",
    "- The **RBF kernel** allows the model to capture **non-linear relationships** between features.  \n",
    "- SVM performs well in **high-dimensional spaces**, making it a strong baseline here.  \n",
    "- Results can be sensitive to **parameter tuning** (`C`, `gamma`), so performance may improve with optimization.  \n"
   ]
  },
  {
   "cell_type": "code",
   "execution_count": 174,
   "id": "e188e982",
   "metadata": {},
   "outputs": [
    {
     "name": "stdout",
     "output_type": "stream",
     "text": [
      "🔹 SVM - All Features\n",
      "Accuracy: 0.819672131147541\n",
      "              precision    recall  f1-score   support\n",
      "\n",
      "           0       0.87      0.79      0.83        33\n",
      "           1       0.77      0.86      0.81        28\n",
      "\n",
      "    accuracy                           0.82        61\n",
      "   macro avg       0.82      0.82      0.82        61\n",
      "weighted avg       0.82      0.82      0.82        61\n",
      "\n"
     ]
    }
   ],
   "source": [
    "X_train_full, X_test_full, y_train_full, y_test_full = train_test_split(\n",
    "    X_full, y, test_size=0.2, random_state=42, stratify=y\n",
    ")\n",
    "svm_all = SVC(kernel='rbf', probability=True, random_state=42)\n",
    "svm_all.fit(X_train_full, y_train_full)\n",
    "y_pred_full = svm_all.predict(X_test_full)\n",
    "\n",
    "print(\"🔹 SVM - All Features\")\n",
    "print(\"Accuracy:\", accuracy_score(y_test_full, y_pred_full))\n",
    "print(classification_report(y_test_full, y_pred_full))"
   ]
  },
  {
   "cell_type": "markdown",
   "id": "93b755b9",
   "metadata": {},
   "source": [
    "# ⚡ Support Vector Machine – Selected Features (~10)  \n",
    "\n",
    "We trained an **SVM classifier** using the **RBF kernel** with only the ~10 features selected by RFE.  \n",
    "\n",
    "## 🔹 What we found:  \n",
    "- **Accuracy**: *(e.g., 0.84 – replace with your output)*  \n",
    "- The **classification report** shows:  \n",
    "  - **Precision** → how many predicted positives were correct.  \n",
    "  - **Recall** → how many actual positives were detected.  \n",
    "  - **F1-score** → the balance between precision and recall.  \n",
    "\n",
    "## 🔹 Analysis:  \n",
    "- Using fewer, **more informative features** can reduce noise and sometimes improve generalization.  \n",
    "- The model still benefits from the **RBF kernel**, which handles **non-linear decision boundaries**.  \n",
    "- This setup provides a useful comparison against SVM with all features and PCA-based features.  \n"
   ]
  },
  {
   "cell_type": "code",
   "execution_count": 175,
   "id": "9d7cbd30",
   "metadata": {},
   "outputs": [
    {
     "name": "stdout",
     "output_type": "stream",
     "text": [
      "🔹 SVM - Selected Features (~10)\n",
      "Accuracy: 0.819672131147541\n",
      "              precision    recall  f1-score   support\n",
      "\n",
      "           0       0.87      0.79      0.83        33\n",
      "           1       0.77      0.86      0.81        28\n",
      "\n",
      "    accuracy                           0.82        61\n",
      "   macro avg       0.82      0.82      0.82        61\n",
      "weighted avg       0.82      0.82      0.82        61\n",
      "\n"
     ]
    }
   ],
   "source": [
    "X_train_rfe, X_test_rfe, y_train_rfe, y_test_rfe = train_test_split(\n",
    "    X_rfe, y, test_size=0.2, random_state=42, stratify=y\n",
    ")\n",
    "svm_rfe = SVC(kernel='rbf', probability=True, random_state=42)\n",
    "svm_rfe.fit(X_train_rfe, y_train_rfe)\n",
    "y_pred_rfe = svm_rfe.predict(X_test_rfe)\n",
    "\n",
    "print(\"🔹 SVM - Selected Features (~10)\")\n",
    "print(\"Accuracy:\", accuracy_score(y_test_rfe, y_pred_rfe))\n",
    "print(classification_report(y_test_rfe, y_pred_rfe))"
   ]
  },
  {
   "cell_type": "markdown",
   "id": "ab443533",
   "metadata": {},
   "source": [
    "# ⚡ Support Vector Machine – PCA Features  \n",
    "\n",
    "We trained an **SVM classifier** using the **RBF kernel** on the **PCA-transformed features**.  \n",
    "\n",
    "## 🔹 What we found:  \n",
    "- **Accuracy**: *(e.g., 0.87 – replace with your output)*  \n",
    "- The **classification report** shows:  \n",
    "  - **Precision** → proportion of predicted positives that were correct.  \n",
    "  - **Recall** → proportion of actual positives detected.  \n",
    "  - **F1-score** → harmonic mean of precision and recall.  \n",
    "\n",
    "## 🔹 Analysis:  \n",
    "- Applying **PCA** reduces dimensionality while keeping most of the variance, helping the SVM focus on the most informative aspects of the data.  \n",
    "- The **RBF kernel** further enhances the model’s ability to capture **non-linear relationships**.  \n",
    "- This approach often strikes a balance between **computational efficiency** and **model accuracy** compared to using all raw features.  \n"
   ]
  },
  {
   "cell_type": "code",
   "execution_count": 176,
   "id": "0b1674df",
   "metadata": {},
   "outputs": [
    {
     "name": "stdout",
     "output_type": "stream",
     "text": [
      "🔹 SVM - PCA Features\n",
      "Accuracy: 0.8360655737704918\n",
      "              precision    recall  f1-score   support\n",
      "\n",
      "           0       0.87      0.82      0.84        33\n",
      "           1       0.80      0.86      0.83        28\n",
      "\n",
      "    accuracy                           0.84        61\n",
      "   macro avg       0.84      0.84      0.84        61\n",
      "weighted avg       0.84      0.84      0.84        61\n",
      "\n"
     ]
    }
   ],
   "source": [
    "X_train_pca, X_test_pca, y_train_pca, y_test_pca = train_test_split(\n",
    "    X_pca, y, test_size=0.2, random_state=42, stratify=y\n",
    ")\n",
    "svm_pca = SVC(kernel='rbf', probability=True, random_state=42)\n",
    "svm_pca.fit(X_train_pca, y_train_pca)\n",
    "y_pred_pca = svm_pca.predict(X_test_pca)\n",
    "y_prob_pca = svm_pca.predict_proba(X_test_pca)[:,1]\n",
    "\n",
    "print(\"🔹 SVM - PCA Features\")\n",
    "print(\"Accuracy:\", accuracy_score(y_test_pca, y_pred_pca))\n",
    "print(classification_report(y_test_pca, y_pred_pca))"
   ]
  },
  {
   "cell_type": "markdown",
   "id": "b4641884",
   "metadata": {},
   "source": [
    "# 📊 ROC Curve & AUC – SVM (All Features)  \n",
    "\n",
    "We evaluated the **SVM classifier** (with RBF kernel) using all available features by plotting the **ROC curve** and computing the **AUC score**.  \n",
    "\n",
    "## 🔹 What we found:  \n",
    "- **AUC Score**: *(e.g., 0.91 – replace with your output)*  \n",
    "- The **ROC curve** shows how well the SVM separates the two classes across different thresholds.  \n",
    "- AUC significantly greater than 0.5 confirms the model’s **strong discriminative ability**.  \n",
    "\n",
    "## 🔹 Analysis:  \n",
    "- Using **all features** allowed the SVM to leverage the full dataset information.  \n",
    "- The curve being far above the diagonal (random baseline) indicates **good predictive performance**.  \n",
    "- This provides further evidence that SVM with RBF kernel is a **robust model** for this classification task.  \n"
   ]
  },
  {
   "cell_type": "code",
   "execution_count": 177,
   "id": "80752df5",
   "metadata": {},
   "outputs": [
    {
     "data": {
      "image/png": "[encoded data removed]",
      "text/plain": [
       "<Figure size 800x600 with 1 Axes>"
      ]
     },
     "metadata": {},
     "output_type": "display_data"
    },
    {
     "name": "stdout",
     "output_type": "stream",
     "text": [
      "AUC Score (SVM All Features): 0.920\n"
     ]
    }
   ],
   "source": [
    "y_prob_full = svm_all.predict_proba(X_test_full)[:, 1]  # احتمالات الكلاس 1\n",
    "\n",
    "fpr, tpr, _ = roc_curve(y_test_full, y_prob_full)\n",
    "auc_score = roc_auc_score(y_test_full, y_prob_full)\n",
    "\n",
    "plt.figure(figsize=(8,6))\n",
    "plt.plot(fpr, tpr, color='darkorange', lw=2, label=f\"SVM (All Features AUC = {auc_score:.3f})\")\n",
    "plt.plot([0,1],[0,1],'k--')\n",
    "plt.xlabel(\"False Positive Rate\")\n",
    "plt.ylabel(\"True Positive Rate\")\n",
    "plt.title(\"ROC Curve - SVM All Features\")\n",
    "plt.legend()\n",
    "plt.grid(True)\n",
    "plt.show()\n",
    "\n",
    "print(f\"AUC Score (SVM All Features): {auc_score:.3f}\")"
   ]
  }
 ],
 "metadata": {
  "kernelspec": {
   "display_name": "Python 3",
   "language": "python",
   "name": "python3"
  },
  "language_info": {
   "codemirror_mode": {
    "name": "ipython",
    "version": 3
   },
   "file_extension": ".py",
   "mimetype": "text/x-python",
   "name": "python",
   "nbconvert_exporter": "python",
   "pygments_lexer": "ipython3",
   "version": "3.13.1"
  }
 },
 "nbformat": 4,
 "nbformat_minor": 5
}
