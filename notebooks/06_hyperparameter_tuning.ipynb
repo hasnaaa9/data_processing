{
 "cells": [
  {
   "cell_type": "markdown",
   "id": "e3fd8b81",
   "metadata": {},
   "source": [
    "## *🔹 Hyperparameter Tuning Setup*\n",
    "pandas: For data manipulation and analysis.\n",
    "\n",
    "matplotlib.pyplot: For plotting graphs such as ROC curves.\n",
    "\n",
    "train_test_split, GridSearchCV (from sklearn.model_selection):\n",
    "\n",
    "  train_test_split: Split data into training and testing sets.\n",
    "\n",
    "  GridSearchCV: Perform hyperparameter tuning with cross-validation.\n",
    "\n",
    "StandardScaler (from sklearn.preprocessing): Standardize features for models sensitive to scale.\n",
    "\n",
    "Pipeline (from sklearn.pipeline): Streamline sequential steps like scaling + modeling.\n",
    "\n",
    "LogisticRegression (from sklearn.linear_model): Classification model.\n",
    "\n",
    "RandomForestClassifier (from sklearn.ensemble): Ensemble-based tree model.\n",
    "\n",
    "SVC (from sklearn.svm): Support Vector Classifier for classification tasks.\n",
    "\n",
    "accuracy_score, classification_report, roc_curve, roc_auc_score (from sklearn.metrics):\n",
    "\n",
    "  Evaluate model performance (accuracy, precision, recall, F1-score).\n",
    "\n",
    "  Compute ROC curves and AUC for probabilistic classifiers."
   ]
  },
  {
   "cell_type": "code",
   "execution_count": 1,
   "id": "642957c8",
   "metadata": {},
   "outputs": [],
   "source": [
    "\n",
    "import pandas as pd\n",
    "import matplotlib.pyplot as plt\n",
    "from sklearn.model_selection import train_test_split, GridSearchCV\n",
    "from sklearn.preprocessing import StandardScaler\n",
    "from sklearn.pipeline import Pipeline\n",
    "from sklearn.linear_model import LogisticRegression\n",
    "from sklearn.ensemble import RandomForestClassifier\n",
    "from sklearn.svm import SVC\n",
    "from sklearn.metrics import accuracy_score, classification_report, roc_curve, roc_auc_score\n",
    "import pickle\n"
   ]
  },
  {
   "cell_type": "markdown",
   "id": "20c3da13",
   "metadata": {},
   "source": [
    "## *🔹 Load and Split Data*\n",
    "\n",
    "Load X_full (all features), X_pca (PCA features), and y (target).\n",
    "\n",
    "Split both datasets 80/20 for training/testing with stratification:\n",
    "\n",
    "X_train_full, X_test_full, y_train_full, y_test_full\n",
    "\n",
    "X_train_pca, X_test_pca, y_train_pca, y_test_pca"
   ]
  },
  {
   "cell_type": "code",
   "execution_count": 3,
   "id": "e3ae0bfc",
   "metadata": {},
   "outputs": [],
   "source": [
    "X_full = pd.read_csv(\"../data/processed/processed_X.csv\")   # All features\n",
    "X_pca = pd.read_csv(\"../data/processed/X_pca_95.csv\")       # PCA features\n",
    "y = pd.read_csv(\"../data/processed/y.csv\").values.ravel()\n",
    "\n",
    "# Split data for testing baseline\n",
    "X_train_full, X_test_full, y_train_full, y_test_full = train_test_split(\n",
    "    X_full, y, test_size=0.2, random_state=42, stratify=y\n",
    ")\n",
    "\n",
    "X_train_pca, X_test_pca, y_train_pca, y_test_pca = train_test_split(\n",
    "    X_pca, y, test_size=0.2, random_state=42, stratify=y\n",
    ")\n",
    "\n"
   ]
  },
  {
   "cell_type": "markdown",
   "id": "84624533",
   "metadata": {},
   "source": [
    "## *🔹 SVM (All Features) – Hyperparameter Tuning*\n",
    "\n",
    "- Hyperparameter grid:\n",
    "\n",
    "  - C: [0.1, 1, 10]\n",
    "\n",
    "  - gamma: ['scale', 'auto']\n",
    "\n",
    "  - kernel: ['rbf', 'poly']\n",
    "\n",
    "- GridSearchCV with 5-fold cross-validation to find the best parameters.\n",
    "\n",
    "- Best estimator used to predict on the test set.\n",
    "\n",
    "### Analysis:\n",
    "\n",
    "- The SVM achieves good overall accuracy, comparable to other classifiers.\n",
    "\n",
    "- Class 0 shows slightly higher recall, meaning negative cases are detected more reliably than positive ones.\n",
    "\n",
    "- Hyperparameter tuning improves performance by selecting the best kernel, C, and gamma, balancing bias and variance.\n",
    "\n",
    "- Using all features ensures the model has access to full information, but feature selection or PCA could reduce complexity without much loss in accuracy."
   ]
  },
  {
   "cell_type": "code",
   "execution_count": 4,
   "id": "4c052f9b",
   "metadata": {},
   "outputs": [
    {
     "name": "stdout",
     "output_type": "stream",
     "text": [
      "🔹 SVM (All Features) - Best Hyperparameters: {'C': 0.1, 'gamma': 'auto', 'kernel': 'poly'}\n",
      "Accuracy: 0.819672131147541\n",
      "              precision    recall  f1-score   support\n",
      "\n",
      "           0       0.87      0.79      0.83        33\n",
      "           1       0.77      0.86      0.81        28\n",
      "\n",
      "    accuracy                           0.82        61\n",
      "   macro avg       0.82      0.82      0.82        61\n",
      "weighted avg       0.82      0.82      0.82        61\n",
      "\n"
     ]
    }
   ],
   "source": [
    "param_grid_svm = {\n",
    "    'C': [0.1, 1, 10],\n",
    "    'gamma': ['scale', 'auto'],\n",
    "    'kernel': ['rbf', 'poly']\n",
    "}\n",
    "\n",
    "svm = SVC(probability=True, random_state=42)\n",
    "grid_svm = GridSearchCV(svm, param_grid_svm, cv=5, scoring='accuracy', n_jobs=-1)\n",
    "grid_svm.fit(X_train_full, y_train_full)\n",
    "\n",
    "best_svm = grid_svm.best_estimator_\n",
    "y_pred_svm = best_svm.predict(X_test_full)\n",
    "y_prob_svm = best_svm.predict_proba(X_test_full)[:,1]\n",
    "\n",
    "print(\"🔹 SVM (All Features) - Best Hyperparameters:\", grid_svm.best_params_)\n",
    "print(\"Accuracy:\", accuracy_score(y_test_full, y_pred_svm))\n",
    "print(classification_report(y_test_full, y_pred_svm))"
   ]
  },
  {
   "cell_type": "markdown",
   "id": "c9bd886e",
   "metadata": {},
   "source": [
    "## *🔹 Random Forest (PCA) – Hyperparameter Tuning*\n",
    "\n",
    "- Hyperparameter grid:\n",
    "\n",
    "  - n_estimators: [100, 200] → Number of trees in the forest\n",
    "\n",
    "  - max_depth: [6, 7, 8, None] → Maximum depth of each tree\n",
    "\n",
    "  - min_samples_split: [2, 5] → Minimum samples required to split a node, to prevent overfitting\n",
    "\n",
    "  - min_samples_leaf: [1, 2] → Minimum samples per leaf, to protect small trees\n",
    "\n",
    "  - max_features: ['sqrt', None] → Number of features to consider when looking for the best split\n",
    "\n",
    "- GridSearchCV with 5-fold cross-validation to find the best parameters.\n",
    "\n",
    "- Best estimator used to predict on the test set.\n",
    "\n",
    "### Analysis:\n",
    "\n",
    "- Hyperparameter tuning allows the Random Forest to balance bias and variance, improving generalization.\n",
    "\n",
    "- min_samples_split and min_samples_leaf help prevent overfitting on small samples.\n",
    "\n",
    "- Using PCA features reduces dimensionality while maintaining strong predictive performance.\n",
    "\n",
    "Overall, the tuned Random Forest is robust, with good accuracy and balanced class performance."
   ]
  },
  {
   "cell_type": "code",
   "execution_count": 5,
   "id": "949850f5",
   "metadata": {},
   "outputs": [
    {
     "name": "stdout",
     "output_type": "stream",
     "text": [
      "🔹 Random Forest (PCA) - Best Hyperparameters: {'max_depth': 7, 'max_features': 'sqrt', 'min_samples_leaf': 1, 'min_samples_split': 5, 'n_estimators': 200}\n",
      "Accuracy: 0.8688524590163934\n",
      "              precision    recall  f1-score   support\n",
      "\n",
      "           0       0.96      0.79      0.87        33\n",
      "           1       0.79      0.96      0.87        28\n",
      "\n",
      "    accuracy                           0.87        61\n",
      "   macro avg       0.88      0.88      0.87        61\n",
      "weighted avg       0.89      0.87      0.87        61\n",
      "\n"
     ]
    }
   ],
   "source": [
    "param_grid_rf = {\n",
    "    'n_estimators': [100, 200],       # أقل خيارات لتقليل وقت التدريب\n",
    "    'max_depth': [6, 7,8, None],        # أهم القيم فقط\n",
    "    'min_samples_split': [2, 5],      # الأساسيات لتجنب overfitting\n",
    "    'min_samples_leaf': [1, 2],       # لحماية الأشجار الصغيرة\n",
    "    'max_features': ['sqrt', None]    # خيارات شائعة\n",
    "}\n",
    "\n",
    "\n",
    "rf = RandomForestClassifier(random_state=42)\n",
    "grid_rf = GridSearchCV(rf, param_grid_rf, cv=5, scoring='accuracy', n_jobs=-1)\n",
    "grid_rf.fit(X_train_pca, y_train_pca)\n",
    "\n",
    "best_rf = grid_rf.best_estimator_\n",
    "y_pred_rf = best_rf.predict(X_test_pca)\n",
    "y_prob_rf = best_rf.predict_proba(X_test_pca)[:,1]\n",
    "\n",
    "print(\"🔹 Random Forest (PCA) - Best Hyperparameters:\", grid_rf.best_params_)\n",
    "print(\"Accuracy:\", accuracy_score(y_test_pca, y_pred_rf))\n",
    "print(classification_report(y_test_pca, y_pred_rf))"
   ]
  }
 ],
 "metadata": {
  "kernelspec": {
   "display_name": "Python 3",
   "language": "python",
   "name": "python3"
  },
  "language_info": {
   "codemirror_mode": {
    "name": "ipython",
    "version": 3
   },
   "file_extension": ".py",
   "mimetype": "text/x-python",
   "name": "python",
   "nbconvert_exporter": "python",
   "pygments_lexer": "ipython3",
   "version": "3.13.1"
  }
 },
 "nbformat": 4,
 "nbformat_minor": 5
}
